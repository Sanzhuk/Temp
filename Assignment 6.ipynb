{
 "cells": [
  {
   "cell_type": "code",
   "execution_count": 1,
   "metadata": {},
   "outputs": [
    {
     "name": "stdout",
     "output_type": "stream",
     "text": [
      "12\n"
     ]
    }
   ],
   "source": [
    "# Exercise 1\n",
    "a = 5\n",
    "b = 7\n",
    "sum = (a + b)\n",
    "print(sum)"
   ]
  },
  {
   "cell_type": "code",
   "execution_count": 2,
   "metadata": {},
   "outputs": [
    {
     "name": "stdout",
     "output_type": "stream",
     "text": [
      "elppa\n"
     ]
    }
   ],
   "source": [
    "# Exercise 2\n",
    "s = \"apple\"\n",
    "sr = s[::-1]\n",
    "print(sr)"
   ]
  },
  {
   "cell_type": "code",
   "execution_count": 3,
   "metadata": {},
   "outputs": [
    {
     "name": "stdout",
     "output_type": "stream",
     "text": [
      "5\n"
     ]
    }
   ],
   "source": [
    "# Exercise 3\n",
    "s = \"apple\"\n",
    "l = len(s)\n",
    "print(l)"
   ]
  },
  {
   "cell_type": "code",
   "execution_count": 4,
   "metadata": {},
   "outputs": [
    {
     "name": "stdout",
     "output_type": "stream",
     "text": [
      "apple1apple2\n"
     ]
    }
   ],
   "source": [
    "# Exercise 4\n",
    "a = \"apple1\"\n",
    "b = \"apple2\"\n",
    "ab = a + b\n",
    "print(ab)"
   ]
  },
  {
   "cell_type": "code",
   "execution_count": 6,
   "metadata": {},
   "outputs": [
    {
     "name": "stdout",
     "output_type": "stream",
     "text": [
      "Not Vowel\n"
     ]
    }
   ],
   "source": [
    "# Exercise 5\n",
    "c = \"b\"\n",
    "if c == 'a' or c == 'e' or c == 'i' or c == 'o' or c == 'y' or c == 'u':\n",
    "    print(\"Vowel\")\n",
    "else:\n",
    "    print(\"Not Vowel\")"
   ]
  },
  {
   "cell_type": "code",
   "execution_count": 10,
   "metadata": {},
   "outputs": [
    {
     "name": "stdout",
     "output_type": "stream",
     "text": [
      "eppla\n"
     ]
    }
   ],
   "source": [
    "# Exercise 6\n",
    "s = \"apple\"\n",
    "s_new = s[-1] + s[1:-1] + s[0]\n",
    "print(s_new)"
   ]
  },
  {
   "cell_type": "code",
   "execution_count": 13,
   "metadata": {},
   "outputs": [
    {
     "name": "stdout",
     "output_type": "stream",
     "text": [
      "APPLE\n"
     ]
    }
   ],
   "source": [
    "# Exercise 7\n",
    "s = \"apPle\"\n",
    "s_new = \"\"\n",
    "for c in s:\n",
    "    if c >= 'A' and c <= 'Z':\n",
    "        s_new += c\n",
    "    else:\n",
    "        s_new += chr(ord(c) - ord('a') + ord('A'))\n",
    "print(s_new)"
   ]
  },
  {
   "cell_type": "code",
   "execution_count": 14,
   "metadata": {},
   "outputs": [
    {
     "name": "stdout",
     "output_type": "stream",
     "text": [
      "50\n"
     ]
    }
   ],
   "source": [
    "# Exercise 8\n",
    "l = 5\n",
    "w = 10\n",
    "area = l * w\n",
    "print(area)"
   ]
  },
  {
   "cell_type": "code",
   "execution_count": 15,
   "metadata": {},
   "outputs": [
    {
     "name": "stdout",
     "output_type": "stream",
     "text": [
      "Even\n"
     ]
    }
   ],
   "source": [
    "# Exercise 9\n",
    "n = 8\n",
    "if n % 2 == 0:\n",
    "    print(\"Even\")\n",
    "else:\n",
    "    print(\"Odd\")"
   ]
  },
  {
   "cell_type": "code",
   "execution_count": 16,
   "metadata": {},
   "outputs": [
    {
     "name": "stdout",
     "output_type": "stream",
     "text": [
      "app\n"
     ]
    }
   ],
   "source": [
    "# Exercise 10\n",
    "s = \"apple\"\n",
    "ss = s[0:3]\n",
    "print(ss)"
   ]
  },
  {
   "cell_type": "code",
   "execution_count": 19,
   "metadata": {},
   "outputs": [
    {
     "name": "stdout",
     "output_type": "stream",
     "text": [
      "My name is Apple and my age is 15\n"
     ]
    }
   ],
   "source": [
    "# Exercise 11\n",
    "name = \"Apple\"\n",
    "age = 15\n",
    "message = f\"My name is {name} and my age is {age}\"\n",
    "print(message)"
   ]
  },
  {
   "cell_type": "code",
   "execution_count": 20,
   "metadata": {},
   "outputs": [
    {
     "name": "stdout",
     "output_type": "stream",
     "text": [
      "cdef\n"
     ]
    }
   ],
   "source": [
    "# Exercise 12\n",
    "s = \"abcdefgh\"\n",
    "ss = s[2:6]\n",
    "print(ss)"
   ]
  },
  {
   "cell_type": "code",
   "execution_count": 22,
   "metadata": {},
   "outputs": [
    {
     "name": "stdout",
     "output_type": "stream",
     "text": [
      "12 <class 'int'>\n"
     ]
    }
   ],
   "source": [
    "# Exercise 13\n",
    "s = \"12\"\n",
    "n = int(s)\n",
    "print(n, type(n))"
   ]
  },
  {
   "cell_type": "code",
   "execution_count": 25,
   "metadata": {},
   "outputs": [
    {
     "name": "stdout",
     "output_type": "stream",
     "text": [
      "appleappleapple\n"
     ]
    }
   ],
   "source": [
    "# Exercise 14\n",
    "s = \"apple\"\n",
    "ss = s * 3\n",
    "print(ss)"
   ]
  },
  {
   "cell_type": "code",
   "execution_count": 27,
   "metadata": {},
   "outputs": [
    {
     "name": "stdout",
     "output_type": "stream",
     "text": [
      "1 5\n"
     ]
    }
   ],
   "source": [
    "# Exercise 15\n",
    "a = 15\n",
    "b = 10\n",
    "print(a // b, a % b)"
   ]
  },
  {
   "cell_type": "code",
   "execution_count": 28,
   "metadata": {},
   "outputs": [
    {
     "name": "stdout",
     "output_type": "stream",
     "text": [
      "1.4285714285714286\n"
     ]
    }
   ],
   "source": [
    "# Exercise 16\n",
    "a = 10\n",
    "b = 7\n",
    "print(a / b)"
   ]
  },
  {
   "cell_type": "code",
   "execution_count": 29,
   "metadata": {},
   "outputs": [
    {
     "name": "stdout",
     "output_type": "stream",
     "text": [
      "2\n"
     ]
    }
   ],
   "source": [
    "# Exercise 17\n",
    "s = \"apple\"\n",
    "cnt = s.count(\"p\")\n",
    "print(cnt)"
   ]
  },
  {
   "cell_type": "code",
   "execution_count": 31,
   "metadata": {},
   "outputs": [
    {
     "name": "stdout",
     "output_type": "stream",
     "text": [
      "Hello \"Sir\"\n"
     ]
    }
   ],
   "source": [
    "# Exercise 18\n",
    "s = \"Hello \\\"Sir\\\"\"\n",
    "print(s)"
   ]
  },
  {
   "cell_type": "code",
   "execution_count": 33,
   "metadata": {},
   "outputs": [
    {
     "name": "stdout",
     "output_type": "stream",
     "text": [
      "Hello \n",
      "How are you? \n",
      "Where are you from?\n"
     ]
    }
   ],
   "source": [
    "# Exercise 19\n",
    "s = \"Hello \\nHow are you? \\nWhere are you from?\"\n",
    "print(s)"
   ]
  },
  {
   "cell_type": "code",
   "execution_count": 34,
   "metadata": {},
   "outputs": [
    {
     "name": "stdout",
     "output_type": "stream",
     "text": [
      "3125\n"
     ]
    }
   ],
   "source": [
    "# Exercise 20\n",
    "n = 5\n",
    "a = 5\n",
    "print(pow(n, a))"
   ]
  },
  {
   "cell_type": "code",
   "execution_count": null,
   "metadata": {},
   "outputs": [],
   "source": []
  },
  {
   "cell_type": "code",
   "execution_count": null,
   "metadata": {},
   "outputs": [],
   "source": []
  }
 ],
 "metadata": {
  "kernelspec": {
   "display_name": "Python 3",
   "language": "python",
   "name": "python3"
  },
  "language_info": {
   "codemirror_mode": {
    "name": "ipython",
    "version": 3
   },
   "file_extension": ".py",
   "mimetype": "text/x-python",
   "name": "python",
   "nbconvert_exporter": "python",
   "pygments_lexer": "ipython3",
   "version": "3.12.4"
  }
 },
 "nbformat": 4,
 "nbformat_minor": 2
}
